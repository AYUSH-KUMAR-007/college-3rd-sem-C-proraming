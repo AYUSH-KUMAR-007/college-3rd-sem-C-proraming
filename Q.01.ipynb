{
 "cells": [
  {
   "cell_type": "code",
   "execution_count": 113,
   "id": "2ad3aa51-8e2a-4540-b40d-5fbe5d9a3ea9",
   "metadata": {},
   "outputs": [
    {
     "name": "stdout",
     "output_type": "stream",
     "text": [
      "*\n",
      "#*\n",
      "#*#\n",
      "*#*#\n",
      "*#*#*\n"
     ]
    }
   ],
   "source": [
    "# Q.1\n",
    "\n",
    "n=5\n",
    "c=0\n",
    "for i in range(1,n+1):\n",
    "    for j in range(1,i+1):\n",
    "        c=c+1\n",
    "        if (c%2==0) :\n",
    "            print(\"#\", end=\"\")\n",
    "        else :\n",
    "            print(\"*\", end=\"\")\n",
    "    print()"
   ]
  },
  {
   "cell_type": "code",
   "execution_count": 114,
   "id": "7d5bcd93-b138-4270-9f10-e86e9afcf7ca",
   "metadata": {},
   "outputs": [
    {
     "name": "stdout",
     "output_type": "stream",
     "text": [
      "   A \n",
      "  B B \n",
      " C C C \n",
      "D D D D \n"
     ]
    }
   ],
   "source": [
    "# Q.2\n",
    "\n",
    "n=4\n",
    "for i in range(1,n+1):\n",
    "    for j in range(n-i,0,-1):\n",
    "        print(\" \", end=\"\")\n",
    "    for j in range(1,i+1):\n",
    "        print((chr)(64+i), end=\" \")\n",
    "    print()"
   ]
  },
  {
   "cell_type": "code",
   "execution_count": 115,
   "id": "b1a9e003-9551-4820-bcff-f8ec40852ef1",
   "metadata": {},
   "outputs": [
    {
     "name": "stdout",
     "output_type": "stream",
     "text": [
      "   1 \n",
      "  2 3 \n",
      " 4 5 6 \n",
      "7 8 9 10 \n"
     ]
    }
   ],
   "source": [
    "# Q.3\n",
    "\n",
    "n=4\n",
    "c=0\n",
    "for i in range(1,n+1):\n",
    "    for j in range(n-i,0,-1):\n",
    "        print(\" \", end=\"\")\n",
    "    for j in range(1,i+1):\n",
    "        c=c+1\n",
    "        print(c, end=\" \")\n",
    "    print()"
   ]
  },
  {
   "cell_type": "code",
   "execution_count": 116,
   "id": "0dc1b9ed-41bf-4a68-a37b-50d66fb188ad",
   "metadata": {},
   "outputs": [
    {
     "name": "stdin",
     "output_type": "stream",
     "text": [
      "Enter number:  8\n"
     ]
    },
    {
     "name": "stdout",
     "output_type": "stream",
     "text": [
      "1 1 4 9 25 64 169 441 "
     ]
    }
   ],
   "source": [
    "# Q.4\n",
    "\n",
    "n=(int)(input(\"Enter number: \"))\n",
    "a=0\n",
    "b=1\n",
    "c=0\n",
    "d=0\n",
    "for i in range(1,n+1):\n",
    "    a=b\n",
    "    b=c\n",
    "    c=a+b\n",
    "    d=c*c\n",
    "    print(d,end=\" \");"
   ]
  },
  {
   "cell_type": "code",
   "execution_count": 117,
   "id": "696c53bb-ff26-4c47-8b91-1370469550ee",
   "metadata": {},
   "outputs": [
    {
     "name": "stdout",
     "output_type": "stream",
     "text": [
      "[1, 2, 3, 13, 5, 6]\n"
     ]
    }
   ],
   "source": [
    "# Q.5\n",
    "\n",
    "l=[1,2,3,5,6]\n",
    "l.insert(3,13)\n",
    "print(l)"
   ]
  },
  {
   "cell_type": "code",
   "execution_count": 118,
   "id": "63ff47f6-b9fe-450d-b908-5cf566315631",
   "metadata": {},
   "outputs": [
    {
     "name": "stdout",
     "output_type": "stream",
     "text": [
      "[1, 2, 5, 6]\n"
     ]
    }
   ],
   "source": [
    "# Q.6\n",
    "\n",
    "l=[1,2,3,5,6]\n",
    "l.remove(3)\n",
    "print(l)"
   ]
  },
  {
   "cell_type": "code",
   "execution_count": 119,
   "id": "ff38f3d4-5ac6-4ee1-9338-b04f2cff6fbc",
   "metadata": {},
   "outputs": [
    {
     "name": "stdout",
     "output_type": "stream",
     "text": [
      "[1, 2, 3, 5, 6, 8, 9]\n"
     ]
    }
   ],
   "source": [
    "# Q.7\n",
    "\n",
    "l=[1,2,3,5,6,6,3,2,8,8,9]\n",
    "l1=[]\n",
    "[l1.append(i) for i in l if i not in l1]\n",
    "print(l1)"
   ]
  },
  {
   "cell_type": "code",
   "execution_count": 120,
   "id": "2d956962-53ee-4360-8891-a1752fa23ec7",
   "metadata": {},
   "outputs": [
    {
     "name": "stdout",
     "output_type": "stream",
     "text": [
      "2nd largest: 10\n"
     ]
    }
   ],
   "source": [
    "# Q.8\n",
    "\n",
    "l=[19,9,5,4,10,6,7,9]\n",
    "m1=l[0]\n",
    "l1=l[0]\n",
    "for i in l:\n",
    "    if m1<i:\n",
    "        m1=i\n",
    "    elif l1>i:\n",
    "        l1=i\n",
    "m2=l1\n",
    "for i in l:\n",
    "    if m2<i and i!=m1:\n",
    "        m2=i\n",
    "print(\"2nd largest:\",m2)"
   ]
  },
  {
   "cell_type": "code",
   "execution_count": 121,
   "id": "88ffb6b5-3a9d-4a29-9535-8fec23e07c7c",
   "metadata": {},
   "outputs": [
    {
     "name": "stdin",
     "output_type": "stream",
     "text": [
      "Enter number:  1\n"
     ]
    },
    {
     "name": "stdout",
     "output_type": "stream",
     "text": [
      "Frequency:  7\n"
     ]
    }
   ],
   "source": [
    "# Q.9\n",
    "\n",
    "l=[1,1,1,1,1,1,1,12,3]\n",
    "k=(int)(input(\"Enter number: \"))\n",
    "c=l.count(k)\n",
    "print(\"Frequency: \",c)"
   ]
  },
  {
   "cell_type": "code",
   "execution_count": 122,
   "id": "8d502310-12e2-4058-a598-18b499065f07",
   "metadata": {},
   "outputs": [
    {
     "name": "stdout",
     "output_type": "stream",
     "text": [
      "[1, 2, 3, 4, 7, 8, 9]\n"
     ]
    }
   ],
   "source": [
    "# Q.10\n",
    "\n",
    "l1=[1,2,3,4]\n",
    "l2=[7,8,9]\n",
    "for i in l2:\n",
    "    l1.append(i)\n",
    "print(l1)"
   ]
  }
 ],
 "metadata": {
  "kernelspec": {
   "display_name": "Python 3 (ipykernel)",
   "language": "python",
   "name": "python3"
  },
  "language_info": {
   "codemirror_mode": {
    "name": "ipython",
    "version": 3
   },
   "file_extension": ".py",
   "mimetype": "text/x-python",
   "name": "python",
   "nbconvert_exporter": "python",
   "pygments_lexer": "ipython3",
   "version": "3.10.8"
  }
 },
 "nbformat": 4,
 "nbformat_minor": 5
}
